{
 "cells": [
  {
   "cell_type": "code",
   "execution_count": 1,
   "metadata": {},
   "outputs": [],
   "source": [
    "import pandas as pd"
   ]
  },
  {
   "cell_type": "code",
   "execution_count": 30,
   "metadata": {},
   "outputs": [],
   "source": [
    "df = pd.read_csv('merged_form2data.csv')\n",
    "#df.head()"
   ]
  },
  {
   "cell_type": "code",
   "execution_count": 33,
   "metadata": {},
   "outputs": [],
   "source": [
    "# keep only those rows with missing values for all columns after the first two columns\n",
    "df = df[df.iloc[:, 2:].isnull().all(1)]\n",
    "df.head\n",
    "# Rename 'Proposal' to 'Proposal.No.'\n",
    "df.rename(columns={'Proposal': 'Proposal.No.'}, inplace=True)\n",
    "# Keep only 'proposal.no.' column\n",
    "df = df[['Proposal.No.']]\n",
    "df.head()\n",
    "df.to_csv('unique_form2_missed.csv')"
   ]
  }
 ],
 "metadata": {
  "kernelspec": {
   "display_name": "Python 3",
   "language": "python",
   "name": "python3"
  },
  "language_info": {
   "codemirror_mode": {
    "name": "ipython",
    "version": 3
   },
   "file_extension": ".py",
   "mimetype": "text/x-python",
   "name": "python",
   "nbconvert_exporter": "python",
   "pygments_lexer": "ipython3",
   "version": "3.8.4"
  }
 },
 "nbformat": 4,
 "nbformat_minor": 2
}
